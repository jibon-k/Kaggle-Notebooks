{
 "cells": [
  {
   "cell_type": "code",
   "execution_count": 1,
   "id": "2fc95c60",
   "metadata": {
    "_cell_guid": "b1076dfc-b9ad-4769-8c92-a6c4dae69d19",
    "_uuid": "8f2839f25d086af736a60e9eeb907d3b93b6e0e5",
    "execution": {
     "iopub.execute_input": "2025-05-31T09:39:55.880434Z",
     "iopub.status.busy": "2025-05-31T09:39:55.880137Z",
     "iopub.status.idle": "2025-05-31T09:39:57.759896Z",
     "shell.execute_reply": "2025-05-31T09:39:57.758907Z"
    },
    "papermill": {
     "duration": 1.8862,
     "end_time": "2025-05-31T09:39:57.761404",
     "exception": false,
     "start_time": "2025-05-31T09:39:55.875204",
     "status": "completed"
    },
    "tags": []
   },
   "outputs": [
    {
     "name": "stdout",
     "output_type": "stream",
     "text": [
      "/kaggle/input/titanic/train.csv\n",
      "/kaggle/input/titanic/test.csv\n",
      "/kaggle/input/titanic/gender_submission.csv\n"
     ]
    }
   ],
   "source": [
    "import numpy as np \n",
    "import pandas as pd \n",
    "import warnings\n",
    "\n",
    "\n",
    "import os\n",
    "for dirname, _, filenames in os.walk('/kaggle/input'):\n",
    "    for filename in filenames:\n",
    "        print(os.path.join(dirname, filename))\n",
    "\n",
    "\n",
    "warnings.filterwarnings('ignore')"
   ]
  },
  {
   "cell_type": "code",
   "execution_count": 2,
   "id": "36d6e888",
   "metadata": {
    "execution": {
     "iopub.execute_input": "2025-05-31T09:39:57.770389Z",
     "iopub.status.busy": "2025-05-31T09:39:57.769964Z",
     "iopub.status.idle": "2025-05-31T09:39:57.820805Z",
     "shell.execute_reply": "2025-05-31T09:39:57.819883Z"
    },
    "papermill": {
     "duration": 0.056752,
     "end_time": "2025-05-31T09:39:57.822266",
     "exception": false,
     "start_time": "2025-05-31T09:39:57.765514",
     "status": "completed"
    },
    "tags": []
   },
   "outputs": [
    {
     "data": {
      "text/html": [
       "<div>\n",
       "<style scoped>\n",
       "    .dataframe tbody tr th:only-of-type {\n",
       "        vertical-align: middle;\n",
       "    }\n",
       "\n",
       "    .dataframe tbody tr th {\n",
       "        vertical-align: top;\n",
       "    }\n",
       "\n",
       "    .dataframe thead th {\n",
       "        text-align: right;\n",
       "    }\n",
       "</style>\n",
       "<table border=\"1\" class=\"dataframe\">\n",
       "  <thead>\n",
       "    <tr style=\"text-align: right;\">\n",
       "      <th></th>\n",
       "      <th>PassengerId</th>\n",
       "      <th>Survived</th>\n",
       "      <th>Pclass</th>\n",
       "      <th>Name</th>\n",
       "      <th>Sex</th>\n",
       "      <th>Age</th>\n",
       "      <th>SibSp</th>\n",
       "      <th>Parch</th>\n",
       "      <th>Ticket</th>\n",
       "      <th>Fare</th>\n",
       "      <th>Cabin</th>\n",
       "      <th>Embarked</th>\n",
       "    </tr>\n",
       "  </thead>\n",
       "  <tbody>\n",
       "    <tr>\n",
       "      <th>281</th>\n",
       "      <td>282</td>\n",
       "      <td>0</td>\n",
       "      <td>3</td>\n",
       "      <td>Olsson, Mr. Nils Johan Goransson</td>\n",
       "      <td>male</td>\n",
       "      <td>28.0</td>\n",
       "      <td>0</td>\n",
       "      <td>0</td>\n",
       "      <td>347464</td>\n",
       "      <td>7.8542</td>\n",
       "      <td>NaN</td>\n",
       "      <td>S</td>\n",
       "    </tr>\n",
       "    <tr>\n",
       "      <th>214</th>\n",
       "      <td>215</td>\n",
       "      <td>0</td>\n",
       "      <td>3</td>\n",
       "      <td>Kiernan, Mr. Philip</td>\n",
       "      <td>male</td>\n",
       "      <td>NaN</td>\n",
       "      <td>1</td>\n",
       "      <td>0</td>\n",
       "      <td>367229</td>\n",
       "      <td>7.7500</td>\n",
       "      <td>NaN</td>\n",
       "      <td>Q</td>\n",
       "    </tr>\n",
       "    <tr>\n",
       "      <th>9</th>\n",
       "      <td>10</td>\n",
       "      <td>1</td>\n",
       "      <td>2</td>\n",
       "      <td>Nasser, Mrs. Nicholas (Adele Achem)</td>\n",
       "      <td>female</td>\n",
       "      <td>14.0</td>\n",
       "      <td>1</td>\n",
       "      <td>0</td>\n",
       "      <td>237736</td>\n",
       "      <td>30.0708</td>\n",
       "      <td>NaN</td>\n",
       "      <td>C</td>\n",
       "    </tr>\n",
       "    <tr>\n",
       "      <th>724</th>\n",
       "      <td>725</td>\n",
       "      <td>1</td>\n",
       "      <td>1</td>\n",
       "      <td>Chambers, Mr. Norman Campbell</td>\n",
       "      <td>male</td>\n",
       "      <td>27.0</td>\n",
       "      <td>1</td>\n",
       "      <td>0</td>\n",
       "      <td>113806</td>\n",
       "      <td>53.1000</td>\n",
       "      <td>E8</td>\n",
       "      <td>S</td>\n",
       "    </tr>\n",
       "    <tr>\n",
       "      <th>410</th>\n",
       "      <td>411</td>\n",
       "      <td>0</td>\n",
       "      <td>3</td>\n",
       "      <td>Sdycoff, Mr. Todor</td>\n",
       "      <td>male</td>\n",
       "      <td>NaN</td>\n",
       "      <td>0</td>\n",
       "      <td>0</td>\n",
       "      <td>349222</td>\n",
       "      <td>7.8958</td>\n",
       "      <td>NaN</td>\n",
       "      <td>S</td>\n",
       "    </tr>\n",
       "  </tbody>\n",
       "</table>\n",
       "</div>"
      ],
      "text/plain": [
       "     PassengerId  Survived  Pclass                                 Name  \\\n",
       "281          282         0       3     Olsson, Mr. Nils Johan Goransson   \n",
       "214          215         0       3                  Kiernan, Mr. Philip   \n",
       "9             10         1       2  Nasser, Mrs. Nicholas (Adele Achem)   \n",
       "724          725         1       1        Chambers, Mr. Norman Campbell   \n",
       "410          411         0       3                   Sdycoff, Mr. Todor   \n",
       "\n",
       "        Sex   Age  SibSp  Parch  Ticket     Fare Cabin Embarked  \n",
       "281    male  28.0      0      0  347464   7.8542   NaN        S  \n",
       "214    male   NaN      1      0  367229   7.7500   NaN        Q  \n",
       "9    female  14.0      1      0  237736  30.0708   NaN        C  \n",
       "724    male  27.0      1      0  113806  53.1000    E8        S  \n",
       "410    male   NaN      0      0  349222   7.8958   NaN        S  "
      ]
     },
     "execution_count": 2,
     "metadata": {},
     "output_type": "execute_result"
    }
   ],
   "source": [
    "train = pd.read_csv('/kaggle/input/titanic/train.csv')\n",
    "train.sample(5)"
   ]
  },
  {
   "cell_type": "code",
   "execution_count": 3,
   "id": "1c6939cf",
   "metadata": {
    "execution": {
     "iopub.execute_input": "2025-05-31T09:39:57.830667Z",
     "iopub.status.busy": "2025-05-31T09:39:57.830117Z",
     "iopub.status.idle": "2025-05-31T09:39:57.841834Z",
     "shell.execute_reply": "2025-05-31T09:39:57.840912Z"
    },
    "papermill": {
     "duration": 0.017562,
     "end_time": "2025-05-31T09:39:57.843400",
     "exception": false,
     "start_time": "2025-05-31T09:39:57.825838",
     "status": "completed"
    },
    "tags": []
   },
   "outputs": [],
   "source": [
    "test = pd.read_csv('/kaggle/input/titanic/test.csv')\n",
    "test_pids = test[\"PassengerId\"]"
   ]
  },
  {
   "cell_type": "code",
   "execution_count": 4,
   "id": "cb730943",
   "metadata": {
    "execution": {
     "iopub.execute_input": "2025-05-31T09:39:57.851651Z",
     "iopub.status.busy": "2025-05-31T09:39:57.851117Z",
     "iopub.status.idle": "2025-05-31T09:39:57.859783Z",
     "shell.execute_reply": "2025-05-31T09:39:57.858829Z"
    },
    "papermill": {
     "duration": 0.014354,
     "end_time": "2025-05-31T09:39:57.861295",
     "exception": false,
     "start_time": "2025-05-31T09:39:57.846941",
     "status": "completed"
    },
    "tags": []
   },
   "outputs": [],
   "source": [
    "train['Title'] = train['Name'].str.extract(' ([A-Za-z]+)\\.', expand=False)\n",
    "test['Title'] = test['Name'].str.extract(' ([A-Za-z]+)\\.', expand=False)"
   ]
  },
  {
   "cell_type": "code",
   "execution_count": 5,
   "id": "8be297d7",
   "metadata": {
    "execution": {
     "iopub.execute_input": "2025-05-31T09:39:57.869798Z",
     "iopub.status.busy": "2025-05-31T09:39:57.868992Z",
     "iopub.status.idle": "2025-05-31T09:39:57.884929Z",
     "shell.execute_reply": "2025-05-31T09:39:57.883957Z"
    },
    "papermill": {
     "duration": 0.021593,
     "end_time": "2025-05-31T09:39:57.886289",
     "exception": false,
     "start_time": "2025-05-31T09:39:57.864696",
     "status": "completed"
    },
    "tags": []
   },
   "outputs": [
    {
     "name": "stdout",
     "output_type": "stream",
     "text": [
      "Title\n",
      "Mr              517\n",
      "Miss            184\n",
      "Mrs             127\n",
      "Master           40\n",
      "Professional     18\n",
      "Nobility          5\n",
      "Name: count, dtype: int64\n",
      "Title\n",
      "Mr              240\n",
      "Miss             78\n",
      "Mrs              73\n",
      "Master           21\n",
      "Professional      5\n",
      "Nobility          1\n",
      "Name: count, dtype: int64\n"
     ]
    }
   ],
   "source": [
    "title_mapping = {\n",
    "    \n",
    "    \"Mr\": \"Mr\",\n",
    "    \"Miss\": \"Miss\",\n",
    "    \"Mrs\": \"Mrs\",\n",
    "    \"Master\": \"Master\",\n",
    "    \n",
    "    \"Dr\": \"Professional\",\n",
    "    \"Rev\": \"Professional\",\n",
    "    \"Col\": \"Professional\",\n",
    "    \"Major\": \"Professional\",\n",
    "    \"Capt\": \"Professional\",\n",
    "    \n",
    "    \"Countess\": \"Nobility\",\n",
    "    \"Lady\": \"Nobility\",\n",
    "    \"Sir\": \"Nobility\",\n",
    "    \"Don\": \"Nobility\",\n",
    "    \"Jonkheer\": \"Nobility\",\n",
    "    \n",
    "    \"Mlle\": \"Miss\",  \n",
    "    \"Mme\": \"Mrs\",    \n",
    "    \"Ms\": \"Mrs\",     \n",
    "    \"Dona\": \"Nobility\"  \n",
    "}\n",
    "\n",
    "\n",
    "train['Title'] = train['Title'].map(title_mapping)\n",
    "test['Title'] = test['Title'].map(title_mapping)\n",
    "\n",
    "print(train['Title'].value_counts())\n",
    "print(test['Title'].value_counts())"
   ]
  },
  {
   "cell_type": "code",
   "execution_count": 6,
   "id": "bdd4498e",
   "metadata": {
    "execution": {
     "iopub.execute_input": "2025-05-31T09:39:57.894662Z",
     "iopub.status.busy": "2025-05-31T09:39:57.893751Z",
     "iopub.status.idle": "2025-05-31T09:39:57.906498Z",
     "shell.execute_reply": "2025-05-31T09:39:57.905602Z"
    },
    "papermill": {
     "duration": 0.018181,
     "end_time": "2025-05-31T09:39:57.907905",
     "exception": false,
     "start_time": "2025-05-31T09:39:57.889724",
     "status": "completed"
    },
    "tags": []
   },
   "outputs": [],
   "source": [
    "def clean(data):\n",
    "    data = data.drop([\"Ticket\", \"PassengerId\", \"Name\", \"Cabin\"], axis=1)\n",
    "    \n",
    "    cols = [\"SibSp\", \"Parch\", \"Fare\", \"Age\"]\n",
    "    for col in cols:\n",
    "        data[col].fillna(data[col].mean(), inplace=True)\n",
    "        \n",
    "    data['Embarked'].fillna(\"U\", inplace=True)\n",
    "    return data\n",
    "\n",
    "train = clean(train)\n",
    "test = clean(test)"
   ]
  },
  {
   "cell_type": "code",
   "execution_count": 7,
   "id": "e6642e58",
   "metadata": {
    "execution": {
     "iopub.execute_input": "2025-05-31T09:39:57.915921Z",
     "iopub.status.busy": "2025-05-31T09:39:57.915400Z",
     "iopub.status.idle": "2025-05-31T09:39:59.330847Z",
     "shell.execute_reply": "2025-05-31T09:39:59.329883Z"
    },
    "papermill": {
     "duration": 1.420858,
     "end_time": "2025-05-31T09:39:59.332198",
     "exception": false,
     "start_time": "2025-05-31T09:39:57.911340",
     "status": "completed"
    },
    "tags": []
   },
   "outputs": [
    {
     "name": "stdout",
     "output_type": "stream",
     "text": [
      "['female' 'male']\n",
      "['Master' 'Miss' 'Mr' 'Mrs' 'Nobility' 'Professional']\n",
      "['C' 'Q' 'S']\n"
     ]
    },
    {
     "data": {
      "text/html": [
       "<div>\n",
       "<style scoped>\n",
       "    .dataframe tbody tr th:only-of-type {\n",
       "        vertical-align: middle;\n",
       "    }\n",
       "\n",
       "    .dataframe tbody tr th {\n",
       "        vertical-align: top;\n",
       "    }\n",
       "\n",
       "    .dataframe thead th {\n",
       "        text-align: right;\n",
       "    }\n",
       "</style>\n",
       "<table border=\"1\" class=\"dataframe\">\n",
       "  <thead>\n",
       "    <tr style=\"text-align: right;\">\n",
       "      <th></th>\n",
       "      <th>Survived</th>\n",
       "      <th>Pclass</th>\n",
       "      <th>Sex</th>\n",
       "      <th>Age</th>\n",
       "      <th>SibSp</th>\n",
       "      <th>Parch</th>\n",
       "      <th>Fare</th>\n",
       "      <th>Embarked</th>\n",
       "      <th>Title</th>\n",
       "    </tr>\n",
       "  </thead>\n",
       "  <tbody>\n",
       "    <tr>\n",
       "      <th>822</th>\n",
       "      <td>0</td>\n",
       "      <td>1</td>\n",
       "      <td>1</td>\n",
       "      <td>38.0</td>\n",
       "      <td>0</td>\n",
       "      <td>0</td>\n",
       "      <td>0.00</td>\n",
       "      <td>2</td>\n",
       "      <td>4</td>\n",
       "    </tr>\n",
       "    <tr>\n",
       "      <th>530</th>\n",
       "      <td>1</td>\n",
       "      <td>2</td>\n",
       "      <td>0</td>\n",
       "      <td>2.0</td>\n",
       "      <td>1</td>\n",
       "      <td>1</td>\n",
       "      <td>26.00</td>\n",
       "      <td>2</td>\n",
       "      <td>1</td>\n",
       "    </tr>\n",
       "    <tr>\n",
       "      <th>551</th>\n",
       "      <td>0</td>\n",
       "      <td>2</td>\n",
       "      <td>1</td>\n",
       "      <td>27.0</td>\n",
       "      <td>0</td>\n",
       "      <td>0</td>\n",
       "      <td>26.00</td>\n",
       "      <td>2</td>\n",
       "      <td>2</td>\n",
       "    </tr>\n",
       "    <tr>\n",
       "      <th>75</th>\n",
       "      <td>0</td>\n",
       "      <td>3</td>\n",
       "      <td>1</td>\n",
       "      <td>25.0</td>\n",
       "      <td>0</td>\n",
       "      <td>0</td>\n",
       "      <td>7.65</td>\n",
       "      <td>2</td>\n",
       "      <td>2</td>\n",
       "    </tr>\n",
       "    <tr>\n",
       "      <th>655</th>\n",
       "      <td>0</td>\n",
       "      <td>2</td>\n",
       "      <td>1</td>\n",
       "      <td>24.0</td>\n",
       "      <td>2</td>\n",
       "      <td>0</td>\n",
       "      <td>73.50</td>\n",
       "      <td>2</td>\n",
       "      <td>2</td>\n",
       "    </tr>\n",
       "  </tbody>\n",
       "</table>\n",
       "</div>"
      ],
      "text/plain": [
       "     Survived  Pclass  Sex   Age  SibSp  Parch   Fare  Embarked  Title\n",
       "822         0       1    1  38.0      0      0   0.00         2      4\n",
       "530         1       2    0   2.0      1      1  26.00         2      1\n",
       "551         0       2    1  27.0      0      0  26.00         2      2\n",
       "75          0       3    1  25.0      0      0   7.65         2      2\n",
       "655         0       2    1  24.0      2      0  73.50         2      2"
      ]
     },
     "execution_count": 7,
     "metadata": {},
     "output_type": "execute_result"
    }
   ],
   "source": [
    "from sklearn import preprocessing\n",
    "\n",
    "label_encoder = preprocessing.LabelEncoder()\n",
    "cols = [\"Sex\", \"Title\", \"Embarked\"]\n",
    "\n",
    "for col in cols:\n",
    "    train[col] = label_encoder.fit_transform(train[col])\n",
    "    test[col] = label_encoder.fit_transform(test[col])\n",
    "    print(label_encoder.classes_)\n",
    "\n",
    "train.sample(5)"
   ]
  },
  {
   "cell_type": "code",
   "execution_count": 8,
   "id": "9c14586d",
   "metadata": {
    "execution": {
     "iopub.execute_input": "2025-05-31T09:39:59.340978Z",
     "iopub.status.busy": "2025-05-31T09:39:59.340547Z",
     "iopub.status.idle": "2025-05-31T09:39:59.356866Z",
     "shell.execute_reply": "2025-05-31T09:39:59.355910Z"
    },
    "papermill": {
     "duration": 0.022524,
     "end_time": "2025-05-31T09:39:59.358385",
     "exception": false,
     "start_time": "2025-05-31T09:39:59.335861",
     "status": "completed"
    },
    "tags": []
   },
   "outputs": [
    {
     "data": {
      "text/html": [
       "<div>\n",
       "<style scoped>\n",
       "    .dataframe tbody tr th:only-of-type {\n",
       "        vertical-align: middle;\n",
       "    }\n",
       "\n",
       "    .dataframe tbody tr th {\n",
       "        vertical-align: top;\n",
       "    }\n",
       "\n",
       "    .dataframe thead th {\n",
       "        text-align: right;\n",
       "    }\n",
       "</style>\n",
       "<table border=\"1\" class=\"dataframe\">\n",
       "  <thead>\n",
       "    <tr style=\"text-align: right;\">\n",
       "      <th></th>\n",
       "      <th>Pclass</th>\n",
       "      <th>Sex</th>\n",
       "      <th>Age</th>\n",
       "      <th>SibSp</th>\n",
       "      <th>Parch</th>\n",
       "      <th>Fare</th>\n",
       "      <th>Embarked</th>\n",
       "      <th>Title</th>\n",
       "    </tr>\n",
       "  </thead>\n",
       "  <tbody>\n",
       "    <tr>\n",
       "      <th>0</th>\n",
       "      <td>3</td>\n",
       "      <td>1</td>\n",
       "      <td>22.000000</td>\n",
       "      <td>1</td>\n",
       "      <td>0</td>\n",
       "      <td>7.2500</td>\n",
       "      <td>2</td>\n",
       "      <td>2</td>\n",
       "    </tr>\n",
       "    <tr>\n",
       "      <th>1</th>\n",
       "      <td>1</td>\n",
       "      <td>0</td>\n",
       "      <td>38.000000</td>\n",
       "      <td>1</td>\n",
       "      <td>0</td>\n",
       "      <td>71.2833</td>\n",
       "      <td>0</td>\n",
       "      <td>3</td>\n",
       "    </tr>\n",
       "    <tr>\n",
       "      <th>2</th>\n",
       "      <td>3</td>\n",
       "      <td>0</td>\n",
       "      <td>26.000000</td>\n",
       "      <td>0</td>\n",
       "      <td>0</td>\n",
       "      <td>7.9250</td>\n",
       "      <td>2</td>\n",
       "      <td>1</td>\n",
       "    </tr>\n",
       "    <tr>\n",
       "      <th>3</th>\n",
       "      <td>1</td>\n",
       "      <td>0</td>\n",
       "      <td>35.000000</td>\n",
       "      <td>1</td>\n",
       "      <td>0</td>\n",
       "      <td>53.1000</td>\n",
       "      <td>2</td>\n",
       "      <td>3</td>\n",
       "    </tr>\n",
       "    <tr>\n",
       "      <th>4</th>\n",
       "      <td>3</td>\n",
       "      <td>1</td>\n",
       "      <td>35.000000</td>\n",
       "      <td>0</td>\n",
       "      <td>0</td>\n",
       "      <td>8.0500</td>\n",
       "      <td>2</td>\n",
       "      <td>2</td>\n",
       "    </tr>\n",
       "    <tr>\n",
       "      <th>...</th>\n",
       "      <td>...</td>\n",
       "      <td>...</td>\n",
       "      <td>...</td>\n",
       "      <td>...</td>\n",
       "      <td>...</td>\n",
       "      <td>...</td>\n",
       "      <td>...</td>\n",
       "      <td>...</td>\n",
       "    </tr>\n",
       "    <tr>\n",
       "      <th>886</th>\n",
       "      <td>2</td>\n",
       "      <td>1</td>\n",
       "      <td>27.000000</td>\n",
       "      <td>0</td>\n",
       "      <td>0</td>\n",
       "      <td>13.0000</td>\n",
       "      <td>2</td>\n",
       "      <td>5</td>\n",
       "    </tr>\n",
       "    <tr>\n",
       "      <th>887</th>\n",
       "      <td>1</td>\n",
       "      <td>0</td>\n",
       "      <td>19.000000</td>\n",
       "      <td>0</td>\n",
       "      <td>0</td>\n",
       "      <td>30.0000</td>\n",
       "      <td>2</td>\n",
       "      <td>1</td>\n",
       "    </tr>\n",
       "    <tr>\n",
       "      <th>888</th>\n",
       "      <td>3</td>\n",
       "      <td>0</td>\n",
       "      <td>29.699118</td>\n",
       "      <td>1</td>\n",
       "      <td>2</td>\n",
       "      <td>23.4500</td>\n",
       "      <td>2</td>\n",
       "      <td>1</td>\n",
       "    </tr>\n",
       "    <tr>\n",
       "      <th>889</th>\n",
       "      <td>1</td>\n",
       "      <td>1</td>\n",
       "      <td>26.000000</td>\n",
       "      <td>0</td>\n",
       "      <td>0</td>\n",
       "      <td>30.0000</td>\n",
       "      <td>0</td>\n",
       "      <td>2</td>\n",
       "    </tr>\n",
       "    <tr>\n",
       "      <th>890</th>\n",
       "      <td>3</td>\n",
       "      <td>1</td>\n",
       "      <td>32.000000</td>\n",
       "      <td>0</td>\n",
       "      <td>0</td>\n",
       "      <td>7.7500</td>\n",
       "      <td>1</td>\n",
       "      <td>2</td>\n",
       "    </tr>\n",
       "  </tbody>\n",
       "</table>\n",
       "<p>891 rows × 8 columns</p>\n",
       "</div>"
      ],
      "text/plain": [
       "     Pclass  Sex        Age  SibSp  Parch     Fare  Embarked  Title\n",
       "0         3    1  22.000000      1      0   7.2500         2      2\n",
       "1         1    0  38.000000      1      0  71.2833         0      3\n",
       "2         3    0  26.000000      0      0   7.9250         2      1\n",
       "3         1    0  35.000000      1      0  53.1000         2      3\n",
       "4         3    1  35.000000      0      0   8.0500         2      2\n",
       "..      ...  ...        ...    ...    ...      ...       ...    ...\n",
       "886       2    1  27.000000      0      0  13.0000         2      5\n",
       "887       1    0  19.000000      0      0  30.0000         2      1\n",
       "888       3    0  29.699118      1      2  23.4500         2      1\n",
       "889       1    1  26.000000      0      0  30.0000         0      2\n",
       "890       3    1  32.000000      0      0   7.7500         1      2\n",
       "\n",
       "[891 rows x 8 columns]"
      ]
     },
     "execution_count": 8,
     "metadata": {},
     "output_type": "execute_result"
    }
   ],
   "source": [
    "train.loc[:, 'Pclass':'Title']"
   ]
  },
  {
   "cell_type": "code",
   "execution_count": 9,
   "id": "85dbbdad",
   "metadata": {
    "execution": {
     "iopub.execute_input": "2025-05-31T09:39:59.368119Z",
     "iopub.status.busy": "2025-05-31T09:39:59.367434Z",
     "iopub.status.idle": "2025-05-31T09:39:59.578620Z",
     "shell.execute_reply": "2025-05-31T09:39:59.577837Z"
    },
    "papermill": {
     "duration": 0.217792,
     "end_time": "2025-05-31T09:39:59.580299",
     "exception": false,
     "start_time": "2025-05-31T09:39:59.362507",
     "status": "completed"
    },
    "tags": []
   },
   "outputs": [],
   "source": [
    "from sklearn.linear_model import LogisticRegression\n",
    "from sklearn.model_selection import train_test_split\n",
    "\n",
    "y = train[\"Survived\"]\n",
    "X = train.drop(\"Survived\", axis=1)\n",
    "\n",
    "X_train, X_val, y_train, y_val = train_test_split(X, y, test_size=0.2, random_state=42)"
   ]
  },
  {
   "cell_type": "code",
   "execution_count": 10,
   "id": "b66e2738",
   "metadata": {
    "execution": {
     "iopub.execute_input": "2025-05-31T09:39:59.589247Z",
     "iopub.status.busy": "2025-05-31T09:39:59.588911Z",
     "iopub.status.idle": "2025-05-31T09:40:00.052762Z",
     "shell.execute_reply": "2025-05-31T09:40:00.049573Z"
    },
    "papermill": {
     "duration": 0.471552,
     "end_time": "2025-05-31T09:40:00.055847",
     "exception": false,
     "start_time": "2025-05-31T09:39:59.584295",
     "status": "completed"
    },
    "tags": []
   },
   "outputs": [],
   "source": [
    "lr = LogisticRegression(random_state=0, max_iter=1000).fit(X_train, y_train)"
   ]
  },
  {
   "cell_type": "code",
   "execution_count": 11,
   "id": "4facfe10",
   "metadata": {
    "execution": {
     "iopub.execute_input": "2025-05-31T09:40:00.080587Z",
     "iopub.status.busy": "2025-05-31T09:40:00.080210Z",
     "iopub.status.idle": "2025-05-31T09:40:00.086299Z",
     "shell.execute_reply": "2025-05-31T09:40:00.085529Z"
    },
    "papermill": {
     "duration": 0.019814,
     "end_time": "2025-05-31T09:40:00.088066",
     "exception": false,
     "start_time": "2025-05-31T09:40:00.068252",
     "status": "completed"
    },
    "tags": []
   },
   "outputs": [
    {
     "name": "stdout",
     "output_type": "stream",
     "text": [
      "[4.63699095]\n",
      "[[-9.34444069e-01 -2.59652160e+00 -2.97138313e-02 -2.98634230e-01\n",
      "  -1.12800769e-01  2.49026278e-03 -2.17958904e-01 -4.12244515e-02]]\n"
     ]
    }
   ],
   "source": [
    "print(lr.intercept_)\n",
    "print(lr.coef_)"
   ]
  },
  {
   "cell_type": "code",
   "execution_count": 12,
   "id": "ca272454",
   "metadata": {
    "execution": {
     "iopub.execute_input": "2025-05-31T09:40:00.102414Z",
     "iopub.status.busy": "2025-05-31T09:40:00.102050Z",
     "iopub.status.idle": "2025-05-31T09:40:00.117796Z",
     "shell.execute_reply": "2025-05-31T09:40:00.114841Z"
    },
    "papermill": {
     "duration": 0.025195,
     "end_time": "2025-05-31T09:40:00.120021",
     "exception": false,
     "start_time": "2025-05-31T09:40:00.094826",
     "status": "completed"
    },
    "tags": []
   },
   "outputs": [
    {
     "data": {
      "text/plain": [
       "0.8100558659217877"
      ]
     },
     "execution_count": 12,
     "metadata": {},
     "output_type": "execute_result"
    }
   ],
   "source": [
    "predictions = lr.predict(X_val)\n",
    "from sklearn.metrics import accuracy_score\n",
    "accuracy_score(y_val, predictions)"
   ]
  },
  {
   "cell_type": "code",
   "execution_count": 13,
   "id": "9dbe3caa",
   "metadata": {
    "execution": {
     "iopub.execute_input": "2025-05-31T09:40:00.136106Z",
     "iopub.status.busy": "2025-05-31T09:40:00.135732Z",
     "iopub.status.idle": "2025-05-31T09:40:00.145369Z",
     "shell.execute_reply": "2025-05-31T09:40:00.144503Z"
    },
    "papermill": {
     "duration": 0.01955,
     "end_time": "2025-05-31T09:40:00.147165",
     "exception": false,
     "start_time": "2025-05-31T09:40:00.127615",
     "status": "completed"
    },
    "tags": []
   },
   "outputs": [],
   "source": [
    "submission = lr.predict(test)"
   ]
  },
  {
   "cell_type": "code",
   "execution_count": 14,
   "id": "c44cb274",
   "metadata": {
    "execution": {
     "iopub.execute_input": "2025-05-31T09:40:00.162886Z",
     "iopub.status.busy": "2025-05-31T09:40:00.162531Z",
     "iopub.status.idle": "2025-05-31T09:40:00.169627Z",
     "shell.execute_reply": "2025-05-31T09:40:00.168592Z"
    },
    "papermill": {
     "duration": 0.016882,
     "end_time": "2025-05-31T09:40:00.171249",
     "exception": false,
     "start_time": "2025-05-31T09:40:00.154367",
     "status": "completed"
    },
    "tags": []
   },
   "outputs": [],
   "source": [
    "submission_df = pd.DataFrame({\"PassengerId\": test_pids.values,\n",
    "                   \"Survived\": submission,\n",
    "                  })"
   ]
  },
  {
   "cell_type": "code",
   "execution_count": 15,
   "id": "3da87afb",
   "metadata": {
    "execution": {
     "iopub.execute_input": "2025-05-31T09:40:00.181168Z",
     "iopub.status.busy": "2025-05-31T09:40:00.180374Z",
     "iopub.status.idle": "2025-05-31T09:40:00.191355Z",
     "shell.execute_reply": "2025-05-31T09:40:00.190618Z"
    },
    "papermill": {
     "duration": 0.017597,
     "end_time": "2025-05-31T09:40:00.192947",
     "exception": false,
     "start_time": "2025-05-31T09:40:00.175350",
     "status": "completed"
    },
    "tags": []
   },
   "outputs": [],
   "source": [
    "submission_df.to_csv(\"/kaggle/working/submission.csv\", index=False)"
   ]
  }
 ],
 "metadata": {
  "kaggle": {
   "accelerator": "none",
   "dataSources": [
    {
     "databundleVersionId": 26502,
     "sourceId": 3136,
     "sourceType": "competition"
    }
   ],
   "dockerImageVersionId": 31040,
   "isGpuEnabled": false,
   "isInternetEnabled": true,
   "language": "python",
   "sourceType": "notebook"
  },
  "kernelspec": {
   "display_name": "Python 3",
   "language": "python",
   "name": "python3"
  },
  "language_info": {
   "codemirror_mode": {
    "name": "ipython",
    "version": 3
   },
   "file_extension": ".py",
   "mimetype": "text/x-python",
   "name": "python",
   "nbconvert_exporter": "python",
   "pygments_lexer": "ipython3",
   "version": "3.11.11"
  },
  "papermill": {
   "default_parameters": {},
   "duration": 9.803339,
   "end_time": "2025-05-31T09:40:00.917368",
   "environment_variables": {},
   "exception": null,
   "input_path": "__notebook__.ipynb",
   "output_path": "__notebook__.ipynb",
   "parameters": {},
   "start_time": "2025-05-31T09:39:51.114029",
   "version": "2.6.0"
  }
 },
 "nbformat": 4,
 "nbformat_minor": 5
}
