{
 "cells": [
  {
   "cell_type": "code",
   "execution_count": 1,
   "id": "41495208",
   "metadata": {
    "_cell_guid": "b1076dfc-b9ad-4769-8c92-a6c4dae69d19",
    "_uuid": "8f2839f25d086af736a60e9eeb907d3b93b6e0e5",
    "execution": {
     "iopub.execute_input": "2025-05-31T09:37:27.783158Z",
     "iopub.status.busy": "2025-05-31T09:37:27.782777Z",
     "iopub.status.idle": "2025-05-31T09:37:29.865249Z",
     "shell.execute_reply": "2025-05-31T09:37:29.864211Z"
    },
    "papermill": {
     "duration": 2.089411,
     "end_time": "2025-05-31T09:37:29.867025",
     "exception": false,
     "start_time": "2025-05-31T09:37:27.777614",
     "status": "completed"
    },
    "tags": []
   },
   "outputs": [
    {
     "name": "stdout",
     "output_type": "stream",
     "text": [
      "/kaggle/input/titanic/train.csv\n",
      "/kaggle/input/titanic/test.csv\n",
      "/kaggle/input/titanic/gender_submission.csv\n"
     ]
    }
   ],
   "source": [
    "import numpy as np \n",
    "import pandas as pd \n",
    "import warnings\n",
    "\n",
    "\n",
    "import os\n",
    "for dirname, _, filenames in os.walk('/kaggle/input'):\n",
    "    for filename in filenames:\n",
    "        print(os.path.join(dirname, filename))\n",
    "\n",
    "\n",
    "warnings.filterwarnings('ignore')"
   ]
  },
  {
   "cell_type": "code",
   "execution_count": 2,
   "id": "85ae6183",
   "metadata": {
    "execution": {
     "iopub.execute_input": "2025-05-31T09:37:29.876030Z",
     "iopub.status.busy": "2025-05-31T09:37:29.875585Z",
     "iopub.status.idle": "2025-05-31T09:37:29.943067Z",
     "shell.execute_reply": "2025-05-31T09:37:29.941220Z"
    },
    "papermill": {
     "duration": 0.074679,
     "end_time": "2025-05-31T09:37:29.945407",
     "exception": false,
     "start_time": "2025-05-31T09:37:29.870728",
     "status": "completed"
    },
    "tags": []
   },
   "outputs": [
    {
     "data": {
      "text/html": [
       "<div>\n",
       "<style scoped>\n",
       "    .dataframe tbody tr th:only-of-type {\n",
       "        vertical-align: middle;\n",
       "    }\n",
       "\n",
       "    .dataframe tbody tr th {\n",
       "        vertical-align: top;\n",
       "    }\n",
       "\n",
       "    .dataframe thead th {\n",
       "        text-align: right;\n",
       "    }\n",
       "</style>\n",
       "<table border=\"1\" class=\"dataframe\">\n",
       "  <thead>\n",
       "    <tr style=\"text-align: right;\">\n",
       "      <th></th>\n",
       "      <th>PassengerId</th>\n",
       "      <th>Survived</th>\n",
       "      <th>Pclass</th>\n",
       "      <th>Name</th>\n",
       "      <th>Sex</th>\n",
       "      <th>Age</th>\n",
       "      <th>SibSp</th>\n",
       "      <th>Parch</th>\n",
       "      <th>Ticket</th>\n",
       "      <th>Fare</th>\n",
       "      <th>Cabin</th>\n",
       "      <th>Embarked</th>\n",
       "    </tr>\n",
       "  </thead>\n",
       "  <tbody>\n",
       "    <tr>\n",
       "      <th>252</th>\n",
       "      <td>253</td>\n",
       "      <td>0</td>\n",
       "      <td>1</td>\n",
       "      <td>Stead, Mr. William Thomas</td>\n",
       "      <td>male</td>\n",
       "      <td>62.0</td>\n",
       "      <td>0</td>\n",
       "      <td>0</td>\n",
       "      <td>113514</td>\n",
       "      <td>26.5500</td>\n",
       "      <td>C87</td>\n",
       "      <td>S</td>\n",
       "    </tr>\n",
       "    <tr>\n",
       "      <th>598</th>\n",
       "      <td>599</td>\n",
       "      <td>0</td>\n",
       "      <td>3</td>\n",
       "      <td>Boulos, Mr. Hanna</td>\n",
       "      <td>male</td>\n",
       "      <td>NaN</td>\n",
       "      <td>0</td>\n",
       "      <td>0</td>\n",
       "      <td>2664</td>\n",
       "      <td>7.2250</td>\n",
       "      <td>NaN</td>\n",
       "      <td>C</td>\n",
       "    </tr>\n",
       "    <tr>\n",
       "      <th>653</th>\n",
       "      <td>654</td>\n",
       "      <td>1</td>\n",
       "      <td>3</td>\n",
       "      <td>O'Leary, Miss. Hanora \"Norah\"</td>\n",
       "      <td>female</td>\n",
       "      <td>NaN</td>\n",
       "      <td>0</td>\n",
       "      <td>0</td>\n",
       "      <td>330919</td>\n",
       "      <td>7.8292</td>\n",
       "      <td>NaN</td>\n",
       "      <td>Q</td>\n",
       "    </tr>\n",
       "    <tr>\n",
       "      <th>368</th>\n",
       "      <td>369</td>\n",
       "      <td>1</td>\n",
       "      <td>3</td>\n",
       "      <td>Jermyn, Miss. Annie</td>\n",
       "      <td>female</td>\n",
       "      <td>NaN</td>\n",
       "      <td>0</td>\n",
       "      <td>0</td>\n",
       "      <td>14313</td>\n",
       "      <td>7.7500</td>\n",
       "      <td>NaN</td>\n",
       "      <td>Q</td>\n",
       "    </tr>\n",
       "    <tr>\n",
       "      <th>588</th>\n",
       "      <td>589</td>\n",
       "      <td>0</td>\n",
       "      <td>3</td>\n",
       "      <td>Gilinski, Mr. Eliezer</td>\n",
       "      <td>male</td>\n",
       "      <td>22.0</td>\n",
       "      <td>0</td>\n",
       "      <td>0</td>\n",
       "      <td>14973</td>\n",
       "      <td>8.0500</td>\n",
       "      <td>NaN</td>\n",
       "      <td>S</td>\n",
       "    </tr>\n",
       "  </tbody>\n",
       "</table>\n",
       "</div>"
      ],
      "text/plain": [
       "     PassengerId  Survived  Pclass                           Name     Sex  \\\n",
       "252          253         0       1      Stead, Mr. William Thomas    male   \n",
       "598          599         0       3              Boulos, Mr. Hanna    male   \n",
       "653          654         1       3  O'Leary, Miss. Hanora \"Norah\"  female   \n",
       "368          369         1       3            Jermyn, Miss. Annie  female   \n",
       "588          589         0       3          Gilinski, Mr. Eliezer    male   \n",
       "\n",
       "      Age  SibSp  Parch  Ticket     Fare Cabin Embarked  \n",
       "252  62.0      0      0  113514  26.5500   C87        S  \n",
       "598   NaN      0      0    2664   7.2250   NaN        C  \n",
       "653   NaN      0      0  330919   7.8292   NaN        Q  \n",
       "368   NaN      0      0   14313   7.7500   NaN        Q  \n",
       "588  22.0      0      0   14973   8.0500   NaN        S  "
      ]
     },
     "execution_count": 2,
     "metadata": {},
     "output_type": "execute_result"
    }
   ],
   "source": [
    "train = pd.read_csv('/kaggle/input/titanic/train.csv')\n",
    "train.sample(5)"
   ]
  },
  {
   "cell_type": "code",
   "execution_count": 3,
   "id": "c419076b",
   "metadata": {
    "execution": {
     "iopub.execute_input": "2025-05-31T09:37:29.956354Z",
     "iopub.status.busy": "2025-05-31T09:37:29.955907Z",
     "iopub.status.idle": "2025-05-31T09:37:29.969373Z",
     "shell.execute_reply": "2025-05-31T09:37:29.968303Z"
    },
    "papermill": {
     "duration": 0.020919,
     "end_time": "2025-05-31T09:37:29.971410",
     "exception": false,
     "start_time": "2025-05-31T09:37:29.950491",
     "status": "completed"
    },
    "tags": []
   },
   "outputs": [],
   "source": [
    "test = pd.read_csv('/kaggle/input/titanic/test.csv')\n",
    "test_pids = test[\"PassengerId\"]"
   ]
  },
  {
   "cell_type": "code",
   "execution_count": 4,
   "id": "97fdbf4c",
   "metadata": {
    "execution": {
     "iopub.execute_input": "2025-05-31T09:37:29.980066Z",
     "iopub.status.busy": "2025-05-31T09:37:29.979742Z",
     "iopub.status.idle": "2025-05-31T09:37:29.989788Z",
     "shell.execute_reply": "2025-05-31T09:37:29.988883Z"
    },
    "papermill": {
     "duration": 0.016523,
     "end_time": "2025-05-31T09:37:29.991581",
     "exception": false,
     "start_time": "2025-05-31T09:37:29.975058",
     "status": "completed"
    },
    "tags": []
   },
   "outputs": [],
   "source": [
    "train['Title'] = train['Name'].str.extract(' ([A-Za-z]+)\\.', expand=False)\n",
    "test['Title'] = test['Name'].str.extract(' ([A-Za-z]+)\\.', expand=False)"
   ]
  },
  {
   "cell_type": "code",
   "execution_count": 5,
   "id": "56a5fcd7",
   "metadata": {
    "execution": {
     "iopub.execute_input": "2025-05-31T09:37:30.000315Z",
     "iopub.status.busy": "2025-05-31T09:37:29.999970Z",
     "iopub.status.idle": "2025-05-31T09:37:30.019266Z",
     "shell.execute_reply": "2025-05-31T09:37:30.017874Z"
    },
    "papermill": {
     "duration": 0.025614,
     "end_time": "2025-05-31T09:37:30.020937",
     "exception": false,
     "start_time": "2025-05-31T09:37:29.995323",
     "status": "completed"
    },
    "tags": []
   },
   "outputs": [
    {
     "name": "stdout",
     "output_type": "stream",
     "text": [
      "Title\n",
      "Mr              517\n",
      "Miss            184\n",
      "Mrs             127\n",
      "Master           40\n",
      "Professional     18\n",
      "Nobility          5\n",
      "Name: count, dtype: int64\n",
      "Title\n",
      "Mr              240\n",
      "Miss             78\n",
      "Mrs              73\n",
      "Master           21\n",
      "Professional      5\n",
      "Nobility          1\n",
      "Name: count, dtype: int64\n"
     ]
    }
   ],
   "source": [
    "title_mapping = {\n",
    "    \n",
    "    \"Mr\": \"Mr\",\n",
    "    \"Miss\": \"Miss\",\n",
    "    \"Mrs\": \"Mrs\",\n",
    "    \"Master\": \"Master\",\n",
    "    \n",
    "    \"Dr\": \"Professional\",\n",
    "    \"Rev\": \"Professional\",\n",
    "    \"Col\": \"Professional\",\n",
    "    \"Major\": \"Professional\",\n",
    "    \"Capt\": \"Professional\",\n",
    "    \n",
    "    \"Countess\": \"Nobility\",\n",
    "    \"Lady\": \"Nobility\",\n",
    "    \"Sir\": \"Nobility\",\n",
    "    \"Don\": \"Nobility\",\n",
    "    \"Jonkheer\": \"Nobility\",\n",
    "    \n",
    "    \"Mlle\": \"Miss\",  \n",
    "    \"Mme\": \"Mrs\",    \n",
    "    \"Ms\": \"Mrs\",     \n",
    "    \"Dona\": \"Nobility\"  \n",
    "}\n",
    "\n",
    "\n",
    "train['Title'] = train['Title'].map(title_mapping)\n",
    "test['Title'] = test['Title'].map(title_mapping)\n",
    "\n",
    "print(train['Title'].value_counts())\n",
    "print(test['Title'].value_counts())"
   ]
  },
  {
   "cell_type": "code",
   "execution_count": 6,
   "id": "a9ce8b76",
   "metadata": {
    "execution": {
     "iopub.execute_input": "2025-05-31T09:37:30.029556Z",
     "iopub.status.busy": "2025-05-31T09:37:30.029234Z",
     "iopub.status.idle": "2025-05-31T09:37:30.041924Z",
     "shell.execute_reply": "2025-05-31T09:37:30.040964Z"
    },
    "papermill": {
     "duration": 0.019099,
     "end_time": "2025-05-31T09:37:30.043774",
     "exception": false,
     "start_time": "2025-05-31T09:37:30.024675",
     "status": "completed"
    },
    "tags": []
   },
   "outputs": [],
   "source": [
    "def clean(data):\n",
    "    data = data.drop([\"Ticket\", \"PassengerId\", \"Name\", \"Cabin\"], axis=1)\n",
    "    \n",
    "    cols = [\"SibSp\", \"Parch\", \"Fare\", \"Age\"]\n",
    "    for col in cols:\n",
    "        data[col].fillna(data[col].mean(), inplace=True)\n",
    "        \n",
    "    data['Embarked'].fillna(\"U\", inplace=True)\n",
    "    return data\n",
    "\n",
    "train = clean(train)\n",
    "test = clean(test)"
   ]
  },
  {
   "cell_type": "code",
   "execution_count": 7,
   "id": "8a29e0d8",
   "metadata": {
    "execution": {
     "iopub.execute_input": "2025-05-31T09:37:30.052863Z",
     "iopub.status.busy": "2025-05-31T09:37:30.051988Z",
     "iopub.status.idle": "2025-05-31T09:37:31.879464Z",
     "shell.execute_reply": "2025-05-31T09:37:31.878303Z"
    },
    "papermill": {
     "duration": 1.83351,
     "end_time": "2025-05-31T09:37:31.880957",
     "exception": false,
     "start_time": "2025-05-31T09:37:30.047447",
     "status": "completed"
    },
    "tags": []
   },
   "outputs": [
    {
     "name": "stdout",
     "output_type": "stream",
     "text": [
      "['female' 'male']\n",
      "['Master' 'Miss' 'Mr' 'Mrs' 'Nobility' 'Professional']\n",
      "['C' 'Q' 'S']\n"
     ]
    },
    {
     "data": {
      "text/html": [
       "<div>\n",
       "<style scoped>\n",
       "    .dataframe tbody tr th:only-of-type {\n",
       "        vertical-align: middle;\n",
       "    }\n",
       "\n",
       "    .dataframe tbody tr th {\n",
       "        vertical-align: top;\n",
       "    }\n",
       "\n",
       "    .dataframe thead th {\n",
       "        text-align: right;\n",
       "    }\n",
       "</style>\n",
       "<table border=\"1\" class=\"dataframe\">\n",
       "  <thead>\n",
       "    <tr style=\"text-align: right;\">\n",
       "      <th></th>\n",
       "      <th>Survived</th>\n",
       "      <th>Pclass</th>\n",
       "      <th>Sex</th>\n",
       "      <th>Age</th>\n",
       "      <th>SibSp</th>\n",
       "      <th>Parch</th>\n",
       "      <th>Fare</th>\n",
       "      <th>Embarked</th>\n",
       "      <th>Title</th>\n",
       "    </tr>\n",
       "  </thead>\n",
       "  <tbody>\n",
       "    <tr>\n",
       "      <th>300</th>\n",
       "      <td>1</td>\n",
       "      <td>3</td>\n",
       "      <td>0</td>\n",
       "      <td>29.699118</td>\n",
       "      <td>0</td>\n",
       "      <td>0</td>\n",
       "      <td>7.7500</td>\n",
       "      <td>1</td>\n",
       "      <td>1</td>\n",
       "    </tr>\n",
       "    <tr>\n",
       "      <th>23</th>\n",
       "      <td>1</td>\n",
       "      <td>1</td>\n",
       "      <td>1</td>\n",
       "      <td>28.000000</td>\n",
       "      <td>0</td>\n",
       "      <td>0</td>\n",
       "      <td>35.5000</td>\n",
       "      <td>2</td>\n",
       "      <td>2</td>\n",
       "    </tr>\n",
       "    <tr>\n",
       "      <th>8</th>\n",
       "      <td>1</td>\n",
       "      <td>3</td>\n",
       "      <td>0</td>\n",
       "      <td>27.000000</td>\n",
       "      <td>0</td>\n",
       "      <td>2</td>\n",
       "      <td>11.1333</td>\n",
       "      <td>2</td>\n",
       "      <td>3</td>\n",
       "    </tr>\n",
       "    <tr>\n",
       "      <th>336</th>\n",
       "      <td>0</td>\n",
       "      <td>1</td>\n",
       "      <td>1</td>\n",
       "      <td>29.000000</td>\n",
       "      <td>1</td>\n",
       "      <td>0</td>\n",
       "      <td>66.6000</td>\n",
       "      <td>2</td>\n",
       "      <td>2</td>\n",
       "    </tr>\n",
       "    <tr>\n",
       "      <th>581</th>\n",
       "      <td>1</td>\n",
       "      <td>1</td>\n",
       "      <td>0</td>\n",
       "      <td>39.000000</td>\n",
       "      <td>1</td>\n",
       "      <td>1</td>\n",
       "      <td>110.8833</td>\n",
       "      <td>0</td>\n",
       "      <td>3</td>\n",
       "    </tr>\n",
       "  </tbody>\n",
       "</table>\n",
       "</div>"
      ],
      "text/plain": [
       "     Survived  Pclass  Sex        Age  SibSp  Parch      Fare  Embarked  Title\n",
       "300         1       3    0  29.699118      0      0    7.7500         1      1\n",
       "23          1       1    1  28.000000      0      0   35.5000         2      2\n",
       "8           1       3    0  27.000000      0      2   11.1333         2      3\n",
       "336         0       1    1  29.000000      1      0   66.6000         2      2\n",
       "581         1       1    0  39.000000      1      1  110.8833         0      3"
      ]
     },
     "execution_count": 7,
     "metadata": {},
     "output_type": "execute_result"
    }
   ],
   "source": [
    "from sklearn import preprocessing\n",
    "\n",
    "label_encoder = preprocessing.LabelEncoder()\n",
    "cols = [\"Sex\", \"Title\", \"Embarked\"]\n",
    "\n",
    "for col in cols:\n",
    "    train[col] = label_encoder.fit_transform(train[col])\n",
    "    test[col] = label_encoder.fit_transform(test[col])\n",
    "    print(label_encoder.classes_)\n",
    "\n",
    "train.sample(5)"
   ]
  },
  {
   "cell_type": "code",
   "execution_count": 8,
   "id": "c9fa3b65",
   "metadata": {
    "execution": {
     "iopub.execute_input": "2025-05-31T09:37:31.889748Z",
     "iopub.status.busy": "2025-05-31T09:37:31.889250Z",
     "iopub.status.idle": "2025-05-31T09:37:31.906318Z",
     "shell.execute_reply": "2025-05-31T09:37:31.905272Z"
    },
    "papermill": {
     "duration": 0.023164,
     "end_time": "2025-05-31T09:37:31.907880",
     "exception": false,
     "start_time": "2025-05-31T09:37:31.884716",
     "status": "completed"
    },
    "tags": []
   },
   "outputs": [
    {
     "data": {
      "text/html": [
       "<div>\n",
       "<style scoped>\n",
       "    .dataframe tbody tr th:only-of-type {\n",
       "        vertical-align: middle;\n",
       "    }\n",
       "\n",
       "    .dataframe tbody tr th {\n",
       "        vertical-align: top;\n",
       "    }\n",
       "\n",
       "    .dataframe thead th {\n",
       "        text-align: right;\n",
       "    }\n",
       "</style>\n",
       "<table border=\"1\" class=\"dataframe\">\n",
       "  <thead>\n",
       "    <tr style=\"text-align: right;\">\n",
       "      <th></th>\n",
       "      <th>Pclass</th>\n",
       "      <th>Sex</th>\n",
       "      <th>Age</th>\n",
       "      <th>SibSp</th>\n",
       "      <th>Parch</th>\n",
       "      <th>Fare</th>\n",
       "      <th>Embarked</th>\n",
       "      <th>Title</th>\n",
       "    </tr>\n",
       "  </thead>\n",
       "  <tbody>\n",
       "    <tr>\n",
       "      <th>0</th>\n",
       "      <td>3</td>\n",
       "      <td>1</td>\n",
       "      <td>22.000000</td>\n",
       "      <td>1</td>\n",
       "      <td>0</td>\n",
       "      <td>7.2500</td>\n",
       "      <td>2</td>\n",
       "      <td>2</td>\n",
       "    </tr>\n",
       "    <tr>\n",
       "      <th>1</th>\n",
       "      <td>1</td>\n",
       "      <td>0</td>\n",
       "      <td>38.000000</td>\n",
       "      <td>1</td>\n",
       "      <td>0</td>\n",
       "      <td>71.2833</td>\n",
       "      <td>0</td>\n",
       "      <td>3</td>\n",
       "    </tr>\n",
       "    <tr>\n",
       "      <th>2</th>\n",
       "      <td>3</td>\n",
       "      <td>0</td>\n",
       "      <td>26.000000</td>\n",
       "      <td>0</td>\n",
       "      <td>0</td>\n",
       "      <td>7.9250</td>\n",
       "      <td>2</td>\n",
       "      <td>1</td>\n",
       "    </tr>\n",
       "    <tr>\n",
       "      <th>3</th>\n",
       "      <td>1</td>\n",
       "      <td>0</td>\n",
       "      <td>35.000000</td>\n",
       "      <td>1</td>\n",
       "      <td>0</td>\n",
       "      <td>53.1000</td>\n",
       "      <td>2</td>\n",
       "      <td>3</td>\n",
       "    </tr>\n",
       "    <tr>\n",
       "      <th>4</th>\n",
       "      <td>3</td>\n",
       "      <td>1</td>\n",
       "      <td>35.000000</td>\n",
       "      <td>0</td>\n",
       "      <td>0</td>\n",
       "      <td>8.0500</td>\n",
       "      <td>2</td>\n",
       "      <td>2</td>\n",
       "    </tr>\n",
       "    <tr>\n",
       "      <th>...</th>\n",
       "      <td>...</td>\n",
       "      <td>...</td>\n",
       "      <td>...</td>\n",
       "      <td>...</td>\n",
       "      <td>...</td>\n",
       "      <td>...</td>\n",
       "      <td>...</td>\n",
       "      <td>...</td>\n",
       "    </tr>\n",
       "    <tr>\n",
       "      <th>886</th>\n",
       "      <td>2</td>\n",
       "      <td>1</td>\n",
       "      <td>27.000000</td>\n",
       "      <td>0</td>\n",
       "      <td>0</td>\n",
       "      <td>13.0000</td>\n",
       "      <td>2</td>\n",
       "      <td>5</td>\n",
       "    </tr>\n",
       "    <tr>\n",
       "      <th>887</th>\n",
       "      <td>1</td>\n",
       "      <td>0</td>\n",
       "      <td>19.000000</td>\n",
       "      <td>0</td>\n",
       "      <td>0</td>\n",
       "      <td>30.0000</td>\n",
       "      <td>2</td>\n",
       "      <td>1</td>\n",
       "    </tr>\n",
       "    <tr>\n",
       "      <th>888</th>\n",
       "      <td>3</td>\n",
       "      <td>0</td>\n",
       "      <td>29.699118</td>\n",
       "      <td>1</td>\n",
       "      <td>2</td>\n",
       "      <td>23.4500</td>\n",
       "      <td>2</td>\n",
       "      <td>1</td>\n",
       "    </tr>\n",
       "    <tr>\n",
       "      <th>889</th>\n",
       "      <td>1</td>\n",
       "      <td>1</td>\n",
       "      <td>26.000000</td>\n",
       "      <td>0</td>\n",
       "      <td>0</td>\n",
       "      <td>30.0000</td>\n",
       "      <td>0</td>\n",
       "      <td>2</td>\n",
       "    </tr>\n",
       "    <tr>\n",
       "      <th>890</th>\n",
       "      <td>3</td>\n",
       "      <td>1</td>\n",
       "      <td>32.000000</td>\n",
       "      <td>0</td>\n",
       "      <td>0</td>\n",
       "      <td>7.7500</td>\n",
       "      <td>1</td>\n",
       "      <td>2</td>\n",
       "    </tr>\n",
       "  </tbody>\n",
       "</table>\n",
       "<p>891 rows × 8 columns</p>\n",
       "</div>"
      ],
      "text/plain": [
       "     Pclass  Sex        Age  SibSp  Parch     Fare  Embarked  Title\n",
       "0         3    1  22.000000      1      0   7.2500         2      2\n",
       "1         1    0  38.000000      1      0  71.2833         0      3\n",
       "2         3    0  26.000000      0      0   7.9250         2      1\n",
       "3         1    0  35.000000      1      0  53.1000         2      3\n",
       "4         3    1  35.000000      0      0   8.0500         2      2\n",
       "..      ...  ...        ...    ...    ...      ...       ...    ...\n",
       "886       2    1  27.000000      0      0  13.0000         2      5\n",
       "887       1    0  19.000000      0      0  30.0000         2      1\n",
       "888       3    0  29.699118      1      2  23.4500         2      1\n",
       "889       1    1  26.000000      0      0  30.0000         0      2\n",
       "890       3    1  32.000000      0      0   7.7500         1      2\n",
       "\n",
       "[891 rows x 8 columns]"
      ]
     },
     "execution_count": 8,
     "metadata": {},
     "output_type": "execute_result"
    }
   ],
   "source": [
    "train.loc[:, 'Pclass':'Title']"
   ]
  },
  {
   "cell_type": "code",
   "execution_count": 9,
   "id": "30d6d433",
   "metadata": {
    "execution": {
     "iopub.execute_input": "2025-05-31T09:37:31.917258Z",
     "iopub.status.busy": "2025-05-31T09:37:31.916925Z",
     "iopub.status.idle": "2025-05-31T09:37:32.193461Z",
     "shell.execute_reply": "2025-05-31T09:37:32.192277Z"
    },
    "papermill": {
     "duration": 0.283,
     "end_time": "2025-05-31T09:37:32.195097",
     "exception": false,
     "start_time": "2025-05-31T09:37:31.912097",
     "status": "completed"
    },
    "tags": []
   },
   "outputs": [],
   "source": [
    "from sklearn.linear_model import LogisticRegression\n",
    "from sklearn.model_selection import train_test_split\n",
    "\n",
    "y = train[\"Survived\"]\n",
    "X = train.drop(\"Survived\", axis=1)\n",
    "\n",
    "X_train, X_val, y_train, y_val = train_test_split(X, y, test_size=0.2, random_state=42)"
   ]
  },
  {
   "cell_type": "code",
   "execution_count": 10,
   "id": "455baa29",
   "metadata": {
    "execution": {
     "iopub.execute_input": "2025-05-31T09:37:32.204647Z",
     "iopub.status.busy": "2025-05-31T09:37:32.204291Z",
     "iopub.status.idle": "2025-05-31T09:37:32.715597Z",
     "shell.execute_reply": "2025-05-31T09:37:32.712886Z"
    },
    "papermill": {
     "duration": 0.519294,
     "end_time": "2025-05-31T09:37:32.718546",
     "exception": false,
     "start_time": "2025-05-31T09:37:32.199252",
     "status": "completed"
    },
    "tags": []
   },
   "outputs": [],
   "source": [
    "lr = LogisticRegression(random_state=0, max_iter=1000).fit(X_train, y_train)"
   ]
  },
  {
   "cell_type": "code",
   "execution_count": 11,
   "id": "ffbbda4a",
   "metadata": {
    "execution": {
     "iopub.execute_input": "2025-05-31T09:37:32.733931Z",
     "iopub.status.busy": "2025-05-31T09:37:32.733571Z",
     "iopub.status.idle": "2025-05-31T09:37:32.741319Z",
     "shell.execute_reply": "2025-05-31T09:37:32.740424Z"
    },
    "papermill": {
     "duration": 0.01738,
     "end_time": "2025-05-31T09:37:32.743062",
     "exception": false,
     "start_time": "2025-05-31T09:37:32.725682",
     "status": "completed"
    },
    "tags": []
   },
   "outputs": [
    {
     "name": "stdout",
     "output_type": "stream",
     "text": [
      "[4.63699095]\n",
      "[[-9.34444069e-01 -2.59652160e+00 -2.97138313e-02 -2.98634230e-01\n",
      "  -1.12800769e-01  2.49026278e-03 -2.17958904e-01 -4.12244515e-02]]\n"
     ]
    }
   ],
   "source": [
    "print(lr.intercept_)\n",
    "print(lr.coef_)"
   ]
  },
  {
   "cell_type": "code",
   "execution_count": 12,
   "id": "cfb6236a",
   "metadata": {
    "execution": {
     "iopub.execute_input": "2025-05-31T09:37:32.757974Z",
     "iopub.status.busy": "2025-05-31T09:37:32.757481Z",
     "iopub.status.idle": "2025-05-31T09:37:32.772933Z",
     "shell.execute_reply": "2025-05-31T09:37:32.772041Z"
    },
    "papermill": {
     "duration": 0.02476,
     "end_time": "2025-05-31T09:37:32.774957",
     "exception": false,
     "start_time": "2025-05-31T09:37:32.750197",
     "status": "completed"
    },
    "tags": []
   },
   "outputs": [
    {
     "data": {
      "text/plain": [
       "0.8100558659217877"
      ]
     },
     "execution_count": 12,
     "metadata": {},
     "output_type": "execute_result"
    }
   ],
   "source": [
    "predictions = lr.predict(X_val)\n",
    "from sklearn.metrics import accuracy_score\n",
    "accuracy_score(y_val, predictions)"
   ]
  },
  {
   "cell_type": "code",
   "execution_count": 13,
   "id": "9d70683f",
   "metadata": {
    "execution": {
     "iopub.execute_input": "2025-05-31T09:37:32.792009Z",
     "iopub.status.busy": "2025-05-31T09:37:32.791664Z",
     "iopub.status.idle": "2025-05-31T09:37:32.799219Z",
     "shell.execute_reply": "2025-05-31T09:37:32.798319Z"
    },
    "papermill": {
     "duration": 0.018625,
     "end_time": "2025-05-31T09:37:32.801112",
     "exception": false,
     "start_time": "2025-05-31T09:37:32.782487",
     "status": "completed"
    },
    "tags": []
   },
   "outputs": [],
   "source": [
    "submission = lr.predict(test)"
   ]
  },
  {
   "cell_type": "code",
   "execution_count": 14,
   "id": "e98d29ec",
   "metadata": {
    "execution": {
     "iopub.execute_input": "2025-05-31T09:37:32.816244Z",
     "iopub.status.busy": "2025-05-31T09:37:32.815586Z",
     "iopub.status.idle": "2025-05-31T09:37:32.823473Z",
     "shell.execute_reply": "2025-05-31T09:37:32.822585Z"
    },
    "papermill": {
     "duration": 0.017391,
     "end_time": "2025-05-31T09:37:32.825506",
     "exception": false,
     "start_time": "2025-05-31T09:37:32.808115",
     "status": "completed"
    },
    "tags": []
   },
   "outputs": [],
   "source": [
    "submission_df = pd.DataFrame({\"PassengerId\": test_pids.values,\n",
    "                   \"Survived\": submission,\n",
    "                  })"
   ]
  },
  {
   "cell_type": "code",
   "execution_count": 15,
   "id": "2dea4d0e",
   "metadata": {
    "execution": {
     "iopub.execute_input": "2025-05-31T09:37:32.836495Z",
     "iopub.status.busy": "2025-05-31T09:37:32.836229Z",
     "iopub.status.idle": "2025-05-31T09:37:32.847409Z",
     "shell.execute_reply": "2025-05-31T09:37:32.846217Z"
    },
    "papermill": {
     "duration": 0.017772,
     "end_time": "2025-05-31T09:37:32.849158",
     "exception": false,
     "start_time": "2025-05-31T09:37:32.831386",
     "status": "completed"
    },
    "tags": []
   },
   "outputs": [],
   "source": [
    "submission_df.to_csv(\"/kaggle/working/submission.csv\", index=False)"
   ]
  }
 ],
 "metadata": {
  "kaggle": {
   "accelerator": "none",
   "dataSources": [
    {
     "databundleVersionId": 26502,
     "sourceId": 3136,
     "sourceType": "competition"
    }
   ],
   "dockerImageVersionId": 31040,
   "isGpuEnabled": false,
   "isInternetEnabled": true,
   "language": "python",
   "sourceType": "notebook"
  },
  "kernelspec": {
   "display_name": "Python 3",
   "language": "python",
   "name": "python3"
  },
  "language_info": {
   "codemirror_mode": {
    "name": "ipython",
    "version": 3
   },
   "file_extension": ".py",
   "mimetype": "text/x-python",
   "name": "python",
   "nbconvert_exporter": "python",
   "pygments_lexer": "ipython3",
   "version": "3.11.11"
  },
  "papermill": {
   "default_parameters": {},
   "duration": 10.964703,
   "end_time": "2025-05-31T09:37:33.574945",
   "environment_variables": {},
   "exception": null,
   "input_path": "__notebook__.ipynb",
   "output_path": "__notebook__.ipynb",
   "parameters": {},
   "start_time": "2025-05-31T09:37:22.610242",
   "version": "2.6.0"
  }
 },
 "nbformat": 4,
 "nbformat_minor": 5
}
